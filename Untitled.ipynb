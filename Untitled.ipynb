{
 "cells": [
  {
   "cell_type": "code",
   "execution_count": null,
   "metadata": {},
   "outputs": [],
   "source": [
    "import numpy as np"
   ]
  },
  {
   "cell_type": "code",
   "execution_count": null,
   "metadata": {},
   "outputs": [],
   "source": [
    "np.random.rand()"
   ]
  },
  {
   "cell_type": "code",
   "execution_count": null,
   "metadata": {},
   "outputs": [],
   "source": [
    "np.zeros((16,16)).reshape(-1).shape"
   ]
  },
  {
   "cell_type": "code",
   "execution_count": null,
   "metadata": {},
   "outputs": [],
   "source": [
    "np.random.randint(1,7)"
   ]
  },
  {
   "cell_type": "code",
   "execution_count": null,
   "metadata": {},
   "outputs": [],
   "source": [
    "16 // 2"
   ]
  },
  {
   "cell_type": "code",
   "execution_count": null,
   "metadata": {},
   "outputs": [],
   "source": [
    "(16 -1) - 2"
   ]
  },
  {
   "cell_type": "code",
   "execution_count": null,
   "metadata": {},
   "outputs": [
    {
     "name": "stdout",
     "output_type": "stream",
     "text": [
      "------------------------------------------------\n",
      " .  .  .  .  .  .  .  .  .  .  .  .  .  .  .  . \n",
      "------------------------------------------------\n",
      " .  .  .  .  .  .  .  .  .  .  .  .  .  .  .  . \n",
      "------------------------------------------------\n",
      " .  .  .  .  .  .  .  .  .  .  .  .  .  .  .  . \n",
      "------------------------------------------------\n",
      " .  .  .  U  X  X  .  .  .  .  E  .  .  .  .  . \n",
      "------------------------------------------------\n",
      " .  .  .  .  .  .  .  .  .  .  .  .  .  .  .  . \n",
      "------------------------------------------------\n",
      " .  .  .  .  .  .  .  .  .  .  .  .  .  .  .  . \n",
      "------------------------------------------------\n",
      " .  .  .  .  .  .  .  .  .  .  .  .  .  .  .  . \n",
      "------------------------------------------------\n",
      " .  .  .  .  .  .  .  .  .  .  .  .  .  .  .  . \n",
      "------------------------------------------------\n",
      " .  .  .  .  .  .  .  .  .  .  .  .  .  .  .  . \n",
      "------------------------------------------------\n",
      " .  .  .  .  .  .  .  .  .  .  .  .  .  .  .  . \n",
      "------------------------------------------------\n",
      " .  .  .  .  .  .  .  .  .  .  .  .  .  .  .  . \n",
      "------------------------------------------------\n",
      " .  .  .  .  .  .  .  .  .  .  .  .  .  .  .  . \n",
      "------------------------------------------------\n",
      " .  .  .  .  .  .  .  .  .  .  .  .  .  .  .  . \n",
      "------------------------------------------------\n",
      " .  .  .  .  .  .  .  .  .  .  .  .  .  .  .  . \n",
      "------------------------------------------------\n",
      " .  .  .  .  .  .  .  .  .  .  .  .  .  .  .  . \n",
      "------------------------------------------------\n",
      " .  .  .  .  .  .  .  .  .  .  .  .  .  .  .  . \n",
      "Episode finished after 3 timesteps\n",
      "False\n"
     ]
    }
   ],
   "source": [
    "import gym\n",
    "import gym_lightriders\n",
    "import time\n",
    "from IPython.display import clear_output\n",
    "env = gym.make('LightRiders-v0')\n",
    "for i_episode in range(20):\n",
    "    observation = env.reset()\n",
    "    time.sleep(1)\n",
    "    for t in range(100):\n",
    "        clear_output(wait=True)\n",
    "        env.render()\n",
    "        # print(observation)\n",
    "        action = env.action_space.sample()\n",
    "        observation, reward, done, info = env.step(action)\n",
    "        if done:\n",
    "            print(\"Episode finished after {} timesteps\".format(t+1))\n",
    "            break\n",
    "env.close()"
   ]
  },
  {
   "cell_type": "code",
   "execution_count": null,
   "metadata": {},
   "outputs": [],
   "source": [
    "import numpy as np\n",
    "foo = True\n",
    "np.append(np.array([1 if foo else 0]), np.array([1,2,3]))"
   ]
  },
  {
   "cell_type": "code",
   "execution_count": null,
   "metadata": {},
   "outputs": [],
   "source": [
    "\"---\" * 5"
   ]
  },
  {
   "cell_type": "code",
   "execution_count": null,
   "metadata": {},
   "outputs": [],
   "source": []
  }
 ],
 "metadata": {
  "kernelspec": {
   "display_name": "Python 3",
   "language": "python",
   "name": "python3"
  },
  "language_info": {
   "codemirror_mode": {
    "name": "ipython",
    "version": 3
   },
   "file_extension": ".py",
   "mimetype": "text/x-python",
   "name": "python",
   "nbconvert_exporter": "python",
   "pygments_lexer": "ipython3",
   "version": "3.7.3"
  }
 },
 "nbformat": 4,
 "nbformat_minor": 2
}
